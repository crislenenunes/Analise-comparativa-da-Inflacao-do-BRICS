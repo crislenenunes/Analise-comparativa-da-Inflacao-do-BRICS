{
  "nbformat": 4,
  "nbformat_minor": 0,
  "metadata": {
    "colab": {
      "provenance": [],
      "authorship_tag": "ABX9TyNzCy6NxZH7P4ZmRivtEAV4",
      "include_colab_link": true
    },
    "kernelspec": {
      "name": "python3",
      "display_name": "Python 3"
    },
    "language_info": {
      "name": "python"
    }
  },
  "cells": [
    {
      "cell_type": "markdown",
      "metadata": {
        "id": "view-in-github",
        "colab_type": "text"
      },
      "source": [
        "<a href=\"https://colab.research.google.com/github/crislenenunes/Analise-comparativa-da-Inflacao-do-BRICS/blob/main/Brics_Infla%C3%A7%C3%A3o.ipynb\" target=\"_parent\"><img src=\"https://colab.research.google.com/assets/colab-badge.svg\" alt=\"Open In Colab\"/></a>"
      ]
    },
    {
      "cell_type": "code",
      "execution_count": null,
      "metadata": {
        "colab": {
          "base_uri": "https://localhost:8080/"
        },
        "id": "Kah2MLgx6bnx",
        "outputId": "69df8d93-85fd-4dc9-eb3b-4d8c5aed0eff"
      },
      "outputs": [
        {
          "output_type": "stream",
          "name": "stdout",
          "text": [
            "Estrutura dos Dados Original:\n",
            "    Periodo Africa  Brasil  China  India Russia\n",
            "0   dez./24   3.0%   0.52%   0.6%  6,10%   4.0%\n",
            "1   nov./24   2.9%   0.39%   0.5%   6.0%   4.2%\n",
            "2   out./24   3.8%   0.56%   0.4%   5.9%   4.4%\n",
            "3   set./24   4.1%   0.26%   0.3%   5.8%   4.6%\n",
            "4   ago./24   4.2%   0.23%   0.2%   5.7%   4.8%\n",
            "5   jul./24   4.4%   0.12%   0.0%   5.6%   5.0%\n",
            "6   jun./24   4.6%   0.08%  -0.1%   5.5%   5.2%\n",
            "7   mai./24   4.8%   0.47%  -0.2%   5.4%   5.4%\n",
            "8   abr./24   5.0%   0.61%  -0.3%   5.3%   5.6%\n",
            "9   mar./24   5.1%   0.71%  -0.5%   5.2%   5.8%\n",
            "10  fev./24   5.2%   0.83%  -0.7%   5.1%   6.0%\n",
            "11  jan./24   5.3%   0.42%   0.5%   5.0%   6.2%\n",
            "12  dez./23   5.1%   0.56%   0.1%  5.72%   6.5%\n",
            "13  nov./23   5.4%   0.41%   0.2%  5.88%   6.8%\n",
            "14  out./23   5.0%   0.59%   0.1%  4.87%   7.1%\n",
            "15  set./23   5.0%   0.26%   0.2%  5.02%   7.4%\n",
            "16  ago./23   4.3%   0.23%   0.1%  6.83%   7.6%\n",
            "17  jul./23   4.7%   -0.7%  -0.3%  6.71%   8.0%\n",
            "18  jun./23   5.5%   0.08%  -0.4%  4.87%   8.5%\n",
            "19  mai./23   6.3%   0.23%  -0.2%  4.31%   9.2%\n",
            "20  abr./23   6.8%   0.61%   0.1%   4.7%   9.6%\n",
            "21  mar./23   7.1%   0.71%   0.7%  5.66%  10.4%\n",
            "22  fev./23   7.0%   0.84%   1.0%  6.44%  11.0%\n",
            "23  jan./23   6.9%   0.53%   2.1%  6.52%  11.8%\n",
            "24  dez./22   7.2%   0.62%   1.8%  5.72%  11.9%\n",
            "25  nov./22   7.4%   0.41%   1.6%  5.88%  12.0%\n",
            "26  out./22   7.4%   0.59%   2.1%  6.77%  12.6%\n",
            "27  set./22   7.5%  -0.29%   2.8%  7.41%  13.7%\n",
            "28  ago./22   7.6%  -0.36%   2.5%   7.0%  14.3%\n",
            "29  jul./22   7.8%  -0.68%   2.7%  6.71%  15.1%\n",
            "30  jun./22   7.4%  -0.68%   2.5%  7.01%  15.9%\n",
            "31  mai./22   6.5%   0.47%   2.1%  7.04%  17.1%\n",
            "32  abr./22   5.9%   1.06%   2.1%  7.79%  17.8%\n",
            "33  mar./22   5.9%   1.62%   1.5%  6.95%  16.7%\n",
            "34  fev./22   5.7%   1.01%   0.9%  6.07%   9.2%\n",
            "35  jan./22   5.7%   0.54%   0.9%  6.01%   0.0%\n",
            "Dados Convertidos:\n",
            "    Periodo  Africa  Brasil  China  India  Russia\n",
            "0   dez./24     3.0    0.52    0.6   6.10     4.0\n",
            "1   nov./24     2.9    0.39    0.5   6.00     4.2\n",
            "2   out./24     3.8    0.56    0.4   5.90     4.4\n",
            "3   set./24     4.1    0.26    0.3   5.80     4.6\n",
            "4   ago./24     4.2    0.23    0.2   5.70     4.8\n",
            "5   jul./24     4.4    0.12    0.0   5.60     5.0\n",
            "6   jun./24     4.6    0.08   -0.1   5.50     5.2\n",
            "7   mai./24     4.8    0.47   -0.2   5.40     5.4\n",
            "8   abr./24     5.0    0.61   -0.3   5.30     5.6\n",
            "9   mar./24     5.1    0.71   -0.5   5.20     5.8\n",
            "10  fev./24     5.2    0.83   -0.7   5.10     6.0\n",
            "11  jan./24     5.3    0.42    0.5   5.00     6.2\n",
            "12  dez./23     5.1    0.56    0.1   5.72     6.5\n",
            "13  nov./23     5.4    0.41    0.2   5.88     6.8\n",
            "14  out./23     5.0    0.59    0.1   4.87     7.1\n",
            "15  set./23     5.0    0.26    0.2   5.02     7.4\n",
            "16  ago./23     4.3    0.23    0.1   6.83     7.6\n",
            "17  jul./23     4.7   -0.70   -0.3   6.71     8.0\n",
            "18  jun./23     5.5    0.08   -0.4   4.87     8.5\n",
            "19  mai./23     6.3    0.23   -0.2   4.31     9.2\n",
            "20  abr./23     6.8    0.61    0.1   4.70     9.6\n",
            "21  mar./23     7.1    0.71    0.7   5.66    10.4\n",
            "22  fev./23     7.0    0.84    1.0   6.44    11.0\n",
            "23  jan./23     6.9    0.53    2.1   6.52    11.8\n",
            "24  dez./22     7.2    0.62    1.8   5.72    11.9\n",
            "25  nov./22     7.4    0.41    1.6   5.88    12.0\n",
            "26  out./22     7.4    0.59    2.1   6.77    12.6\n",
            "27  set./22     7.5   -0.29    2.8   7.41    13.7\n",
            "28  ago./22     7.6   -0.36    2.5   7.00    14.3\n",
            "29  jul./22     7.8   -0.68    2.7   6.71    15.1\n",
            "30  jun./22     7.4   -0.68    2.5   7.01    15.9\n",
            "31  mai./22     6.5    0.47    2.1   7.04    17.1\n",
            "32  abr./22     5.9    1.06    2.1   7.79    17.8\n",
            "33  mar./22     5.9    1.62    1.5   6.95    16.7\n",
            "34  fev./22     5.7    1.01    0.9   6.07     9.2\n",
            "35  jan./22     5.7    0.54    0.9   6.01     0.0\n"
          ]
        }
      ],
      "source": [
        "import scipy.stats as sp\n",
        "import pandas as pd\n",
        "import numpy as np\n",
        "\n",
        "# 1. Carregar os dados\n",
        "url = \"https://docs.google.com/spreadsheets/d/e/2PACX-1vTiGAkeipJFXwybW-pG-_32sjW1vzQe-zvZbUfXuyTM1fdho6u1IiyUwLhcLbexKB5k_C6iMRe_mdGb/pub?gid=0&single=true&output=csv\"\n",
        "df = pd.read_csv(url)\n",
        "\n",
        "# 2. Visualizar as primeiras linhas\n",
        "print(\"Estrutura dos Dados Original:\")\n",
        "print(df)\n",
        "\n",
        "# 3. Limpeza dos Dados: Remover linhas vazias\n",
        "df_clean = df.dropna(how=\"all\").copy()\n",
        "\n",
        "# 4. Remover o símbolo de '%' e substituir vírgulas por pontos\n",
        "for column in df_clean.columns:\n",
        "    if column != \"Periodo\":\n",
        "        df_clean[column] = df_clean[column].astype(str)  # Garantir que são strings antes da substituição\n",
        "        df_clean[column] = df_clean[column].str.replace(\"%\", \"\").str.replace(\",\", \".\")  # Remover '%' e corrigir vírgulas\n",
        "        df_clean[column] = pd.to_numeric(df_clean[column], errors=\"coerce\")  # Converter para float\n",
        "\n",
        "# 5. Exibir os dados corrigidos\n",
        "print(\"Dados Convertidos:\")\n",
        "print(df_clean)\n"
      ]
    },
    {
      "cell_type": "code",
      "source": [
        "# 4. Calcular a média de cada país (ignorando o \"Período\")\n",
        "medias = df_clean.drop(columns=[\"Periodo\"]).mean()\n",
        "\n",
        "# 5. Exibir as médias\n",
        "print(\"Média de cada país:\")\n",
        "print(medias)"
      ],
      "metadata": {
        "colab": {
          "base_uri": "https://localhost:8080/"
        },
        "id": "hGvIs5zzWazg",
        "outputId": "691f6417-2a03-4037-fcfa-b37d1e9f71b1"
      },
      "execution_count": null,
      "outputs": [
        {
          "output_type": "stream",
          "name": "stdout",
          "text": [
            "Média de cada país:\n",
            "Africa    5.652778\n",
            "Brasil    0.385000\n",
            "China     0.775000\n",
            "India     5.958056\n",
            "Russia    8.927778\n",
            "dtype: float64\n"
          ]
        }
      ]
    },
    {
      "cell_type": "code",
      "source": [
        "# Calcular as médias de cada país\n",
        "medias_paises = df_clean[paises].mean()\n",
        "\n",
        "# Verificar as médias calculadas\n",
        "print(\"Médias de cada país:\")\n",
        "print(medias_paises)\n",
        "\n",
        "# Criar combinações de pares de países\n",
        "pares = list(itertools.combinations(medias_paises.index, 2))  # Todas as combinações de 2 países\n",
        "\n",
        "# Criar uma lista para armazenar as diferenças entre os pares\n",
        "diferencas = []\n",
        "\n",
        "# Calcular as diferenças entre as médias de cada par de países\n",
        "for pais1, pais2 in pares:\n",
        "    diferenca = abs(medias_paises[pais1] - medias_paises[pais2])\n",
        "    diferencas.append({\"Pais 1\": pais1, \"Pais 2\": pais2, \"Diferenca\": diferenca})\n",
        "\n",
        "# Criar o DataFrame com as diferenças\n",
        "df_pares = pd.DataFrame(diferencas)\n",
        "\n",
        "# Exibir o DataFrame com as diferenças\n",
        "print(\"Diferenças entre os pares de países:\")\n",
        "print(df_pares)"
      ],
      "metadata": {
        "colab": {
          "base_uri": "https://localhost:8080/"
        },
        "id": "HEZhIkkTXBrM",
        "outputId": "ebea247e-d655-45aa-cd13-f1a69b0329a8"
      },
      "execution_count": null,
      "outputs": [
        {
          "output_type": "stream",
          "name": "stdout",
          "text": [
            "Médias de cada país:\n",
            "Africa    5.652778\n",
            "Brasil    0.385000\n",
            "China     0.775000\n",
            "India     5.958056\n",
            "Russia    8.927778\n",
            "dtype: float64\n",
            "Diferenças entre os pares de países:\n",
            "   Pais 1  Pais 2  Diferenca\n",
            "0  Africa  Brasil   5.267778\n",
            "1  Africa   China   4.877778\n",
            "2  Africa   India   0.305278\n",
            "3  Africa  Russia   3.275000\n",
            "4  Brasil   China   0.390000\n",
            "5  Brasil   India   5.573056\n",
            "6  Brasil  Russia   8.542778\n",
            "7   China   India   5.183056\n",
            "8   China  Russia   8.152778\n",
            "9   India  Russia   2.969722\n"
          ]
        }
      ]
    },
    {
      "cell_type": "code",
      "source": [
        "# Importando a função ttest_ind\n",
        "from scipy.stats import ttest_ind\n",
        "\n",
        "# Teste T com significância a 10%\n",
        "nivel_significancia_10 = 0.10\n",
        "\n",
        "# Criar uma lista para armazenar os resultados\n",
        "resultados_10 = []\n",
        "\n",
        "# Realizar o teste T para cada par de países\n",
        "for pais1, pais2 in pares:\n",
        "    t_stat, p_valor = ttest_ind(df_clean[pais1], df_clean[pais2])\n",
        "\n",
        "    # Verificar se o p-valor é menor que 0.10 (significância de 10%)\n",
        "    if p_valor < nivel_significancia_10:\n",
        "        significancia_10 = \"Significativo a 10%\"\n",
        "    else:\n",
        "        significancia_10 = \"Não significativo\"\n",
        "\n",
        "    # Adicionar os resultados à lista\n",
        "    resultados_10.append({\n",
        "        \"Pais 1\": pais1,\n",
        "        \"Pais 2\": pais2,\n",
        "        \"T-Estatística\": t_stat,\n",
        "        \"P-Valor\": p_valor,\n",
        "        \"Significância a 10%\": significancia_10\n",
        "    })\n",
        "\n",
        "# Criar o DataFrame com os resultados\n",
        "df_resultados_10 = pd.DataFrame(resultados_10)\n",
        "\n",
        "# Exibir os resultados\n",
        "print(df_resultados_10)\n"
      ],
      "metadata": {
        "colab": {
          "base_uri": "https://localhost:8080/"
        },
        "id": "uiaPVQflZE40",
        "outputId": "96c268bc-95f6-4b57-9154-15ecf5e9c23c"
      },
      "execution_count": null,
      "outputs": [
        {
          "output_type": "stream",
          "name": "stdout",
          "text": [
            "   Pais 1  Pais 2  T-Estatística       P-Valor  Significância a 10%\n",
            "0  Africa  Brasil      22.251687  1.814432e-33  Significativo a 10%\n",
            "1  Africa   China      17.342405  4.809557e-27  Significativo a 10%\n",
            "2  Africa   India      -1.164833  2.480408e-01    Não significativo\n",
            "3  Africa  Russia      -4.291188  5.599183e-05  Significativo a 10%\n",
            "4  Brasil   China      -2.053824  4.372951e-02  Significativo a 10%\n",
            "5  Brasil   India     -34.808261  6.260427e-46  Significativo a 10%\n",
            "6  Brasil  Russia     -11.631593  5.135546e-18  Significativo a 10%\n",
            "7   China   India     -23.486846  6.423702e-35  Significativo a 10%\n",
            "8   China  Russia     -10.870603  1.107962e-16  Significativo a 10%\n",
            "9   India  Russia      -3.996923  1.567820e-04  Significativo a 10%\n"
          ]
        }
      ]
    },
    {
      "cell_type": "code",
      "source": [
        "# Teste T com significância a 5%\n",
        "nivel_significancia_5 = 0.05\n",
        "\n",
        "# Criar uma lista para armazenar os resultados\n",
        "resultados_5 = []\n",
        "\n",
        "# Realizar o teste T para cada par de países\n",
        "for pais1, pais2 in pares:\n",
        "    t_stat, p_valor = ttest_ind(df_clean[pais1], df_clean[pais2])\n",
        "\n",
        "    # Verificar se o p-valor é menor que 0.05 (significância de 5%)\n",
        "    if p_valor < nivel_significancia_5:\n",
        "        significancia_5 = \"Significativo a 5%\"\n",
        "    else:\n",
        "        significancia_5 = \"Não significativo\"\n",
        "\n",
        "    # Adicionar os resultados à lista\n",
        "    resultados_5.append({\n",
        "        \"Pais 1\": pais1,\n",
        "        \"Pais 2\": pais2,\n",
        "        \"T-Estatística\": t_stat,\n",
        "        \"P-Valor\": p_valor,\n",
        "        \"Significância a 5%\": significancia_5\n",
        "    })\n",
        "\n",
        "# Criar o DataFrame com os resultados\n",
        "df_resultados_5 = pd.DataFrame(resultados_5)\n",
        "\n",
        "# Exibir os resultados\n",
        "print(df_resultados_5)\n"
      ],
      "metadata": {
        "colab": {
          "base_uri": "https://localhost:8080/"
        },
        "id": "Lw1iA06raF3O",
        "outputId": "249c7c18-5a37-4e45-de23-8a15e362daa1"
      },
      "execution_count": null,
      "outputs": [
        {
          "output_type": "stream",
          "name": "stdout",
          "text": [
            "   Pais 1  Pais 2  T-Estatística       P-Valor  Significância a 5%\n",
            "0  Africa  Brasil      22.251687  1.814432e-33  Significativo a 5%\n",
            "1  Africa   China      17.342405  4.809557e-27  Significativo a 5%\n",
            "2  Africa   India      -1.164833  2.480408e-01   Não significativo\n",
            "3  Africa  Russia      -4.291188  5.599183e-05  Significativo a 5%\n",
            "4  Brasil   China      -2.053824  4.372951e-02  Significativo a 5%\n",
            "5  Brasil   India     -34.808261  6.260427e-46  Significativo a 5%\n",
            "6  Brasil  Russia     -11.631593  5.135546e-18  Significativo a 5%\n",
            "7   China   India     -23.486846  6.423702e-35  Significativo a 5%\n",
            "8   China  Russia     -10.870603  1.107962e-16  Significativo a 5%\n",
            "9   India  Russia      -3.996923  1.567820e-04  Significativo a 5%\n"
          ]
        }
      ]
    },
    {
      "cell_type": "code",
      "source": [
        "# Teste T com significância a 1%\n",
        "nivel_significancia_1 = 0.01\n",
        "\n",
        "# Criar uma lista para armazenar os resultados\n",
        "resultados_1 = []\n",
        "\n",
        "# Realizar o teste T para cada par de países\n",
        "for pais1, pais2 in pares:\n",
        "    t_stat, p_valor = ttest_ind(df_clean[pais1], df_clean[pais2])\n",
        "\n",
        "    # Verificar se o p-valor é menor que 0.01 (significância de 1%)\n",
        "    if p_valor < nivel_significancia_1:\n",
        "        significancia_1 = \"Significativo a 1%\"\n",
        "    else:\n",
        "        significancia_1 = \"Não significativo\"\n",
        "\n",
        "    # Adicionar os resultados à lista\n",
        "    resultados_1.append({\n",
        "        \"Pais 1\": pais1,\n",
        "        \"Pais 2\": pais2,\n",
        "        \"T-Estatística\": t_stat,\n",
        "        \"P-Valor\": p_valor,\n",
        "        \"Significância a 1%\": significancia_1\n",
        "    })\n",
        "\n",
        "# Criar o DataFrame com os resultados\n",
        "df_resultados_1 = pd.DataFrame(resultados_1)\n",
        "\n",
        "# Exibir os resultados\n",
        "print(df_resultados_1)\n"
      ],
      "metadata": {
        "colab": {
          "base_uri": "https://localhost:8080/"
        },
        "id": "L32vmj5KadVu",
        "outputId": "df6ea9f3-7b95-4c93-94a6-9bb765410760"
      },
      "execution_count": null,
      "outputs": [
        {
          "output_type": "stream",
          "name": "stdout",
          "text": [
            "   Pais 1  Pais 2  T-Estatística       P-Valor  Significância a 1%\n",
            "0  Africa  Brasil      22.251687  1.814432e-33  Significativo a 1%\n",
            "1  Africa   China      17.342405  4.809557e-27  Significativo a 1%\n",
            "2  Africa   India      -1.164833  2.480408e-01   Não significativo\n",
            "3  Africa  Russia      -4.291188  5.599183e-05  Significativo a 1%\n",
            "4  Brasil   China      -2.053824  4.372951e-02   Não significativo\n",
            "5  Brasil   India     -34.808261  6.260427e-46  Significativo a 1%\n",
            "6  Brasil  Russia     -11.631593  5.135546e-18  Significativo a 1%\n",
            "7   China   India     -23.486846  6.423702e-35  Significativo a 1%\n",
            "8   China  Russia     -10.870603  1.107962e-16  Significativo a 1%\n",
            "9   India  Russia      -3.996923  1.567820e-04  Significativo a 1%\n"
          ]
        }
      ]
    },
    {
      "cell_type": "code",
      "source": [],
      "metadata": {
        "id": "zS7zgG-1aldw"
      },
      "execution_count": null,
      "outputs": []
    }
  ]
}